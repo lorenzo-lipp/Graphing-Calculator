{
  "cells": [
    {
      "attachments": {},
      "cell_type": "markdown",
      "metadata": {
        "id": "jpo7oASHGEu7"
      },
      "source": [
        "# Projectile Game"
      ]
    },
    {
      "attachments": {},
      "cell_type": "markdown",
      "metadata": {
        "id": "WHx9faGkGEu7"
      },
      "source": [
        "Learn quadratic functions by building a projectile game. Starting at (0,0) you launch a toy rocket that must clear a wall. You can randomize the height and location of the wall. The goal is to determine what initial velocity would get the rocket over the wall. Bonus: make an animation of the path of the rocket.\n"
      ]
    },
    {
      "cell_type": "code",
      "execution_count": 2,
      "metadata": {
        "id": "-yFfSgoeWHN3"
      },
      "outputs": [
        {
          "name": "stdout",
          "output_type": "stream",
          "text": [
            "Assuming gravity = -9.8 m/s²\n",
            "Initial velocity should be 356.8352941176471 m/s\n"
          ]
        },
        {
          "data": {
            "image/png": "[encoded data removed]",
            "text/plain": [
              "<Figure size 640x480 with 1 Axes>"
            ]
          },
          "metadata": {},
          "output_type": "display_data"
        }
      ],
      "source": [
        "# Write your code here\n",
        "import numpy as np\n",
        "import matplotlib.pyplot as plt\n",
        "import math\n",
        "import time\n",
        "from IPython import display\n",
        "\n",
        "height = np.random.randint(1000, 5000)\n",
        "location = np.random.randint(10, 25)\n",
        "x1 = location\n",
        "y1 = height * 1.05\n",
        "a = -9.8\n",
        "b = - a * location + y1 / x1\n",
        "vx = -b/(2 * a)\n",
        "vy = a * vx ** 2 + b * vx\n",
        "xmin = 0\n",
        "xmax = int(math.ceil(2 * vx))\n",
        "ymin = 0\n",
        "ymax = int(vy * 1.02)\n",
        "points_amount = xmax - xmin\n",
        "\n",
        "for i in range(points_amount):\n",
        "    current_x = xmin + i + 1\n",
        "    x = np.linspace(xmin, current_x, current_x - xmin)\n",
        "    y = a * x**2 + b * x\n",
        "\n",
        "    plt.clf()\n",
        "    plt.axis([xmin, xmax, ymin, ymax])\n",
        "    plt.plot(x, y, alpha = 0.5)\n",
        "    plt.plot([location, location], [0, height], 'green')\n",
        "    plt.plot([current_x], [a * current_x ** 2 + b * current_x], 'k^')\n",
        "\n",
        "    display.display(plt.gcf())\n",
        "    time.sleep(0.1)\n",
        "    display.clear_output(wait=True)\n",
        "\n",
        "print(\"Assuming gravity = \" + str(a) + \" m/s²\")\n",
        "print(\"Initial velocity should be \" + str(b) + \" m/s\")\n",
        "plt.show()\n",
        "# This step does not have a test"
      ]
    },
    {
      "attachments": {},
      "cell_type": "markdown",
      "metadata": {
        "id": "pE5o0-VMaIy3"
      },
      "source": [
        "# Define Graphing Functions"
      ]
    },
    {
      "attachments": {},
      "cell_type": "markdown",
      "metadata": {
        "id": "c5tXoITnag_P"
      },
      "source": [
        "Building on what you have already done, create a menu with the following options:<br>\n",
        "<ul>\n",
        "<li>Display the graph and a table of values for any \"y=\" equation input</li>\n",
        "<li>Solve a system of two equations without graphing</li>\n",
        "<li>Graph two equations and plot the point of intersection</li>\n",
        "<li>Given a, b and c in a quadratic equation, plot the roots and vertex</li>\n",
        "</ul>\n",
        "Then think about how you will define a function for each item."
      ]
    },
    {
      "cell_type": "code",
      "execution_count": 2,
      "metadata": {
        "id": "lvuStaKYalPo"
      },
      "outputs": [
        {
          "name": "stdout",
          "output_type": "stream",
          "text": [
            "Choose an option below:\n",
            "1. Display the graph and a table of values for any \"y=\" equation input\n",
            "2. Solve a system of two equations without graphing\n",
            "3. Graph two equations and plot the point of intersection\n",
            "4. Given a, b and c in a quadratic equation, plot the roots and vertex\n"
          ]
        },
        {
          "data": {
            "text/plain": [
              "'2'"
            ]
          },
          "execution_count": 2,
          "metadata": {},
          "output_type": "execute_result"
        }
      ],
      "source": [
        "# Write your code here\n",
        "\n",
        "def display_menu():\n",
        "    print(\"Choose an option below:\")\n",
        "    print(\"1. Display the graph and a table of values for any \\\"y=\\\" equation input\")\n",
        "    print(\"2. Solve a system of two equations without graphing\")\n",
        "    print(\"3. Graph two equations and plot the point of intersection\")\n",
        "    print(\"4. Given a, b and c in a quadratic equation, plot the roots and vertex\")\n",
        "    return input(\"\")\n",
        "\n",
        "display_menu()\n",
        "# This step does not have a test"
      ]
    },
    {
      "cell_type": "code",
      "execution_count": 27,
      "metadata": {
        "id": "bmuz1zCecVCX"
      },
      "outputs": [],
      "source": [
        "# Write your code here\n",
        "from sympy import solve, nonlinsolve, Symbol, plotting, lambdify, Eq\n",
        "from sympy.parsing.sympy_parser import parse_expr\n",
        "import matplotlib.pyplot as plt\n",
        "import numpy as np\n",
        "import math\n",
        "\n",
        "def graph_and_table_y_equals(equation_input):\n",
        "    xmax = 20\n",
        "    solutions_x = range(0, xmax + 1)\n",
        "    solutions_y = np.empty((xmax + 1))\n",
        "\n",
        "    for value in solutions_x:\n",
        "        equation = parse_expr(equation_input + \"-y\")\n",
        "        new_eq = equation.subs(\"x\", value)\n",
        "        solutions_y[value] = solve(new_eq)[0]\n",
        "    \n",
        "    print(\"x \\t y\")\n",
        "    for i, value in enumerate(solutions_x):\n",
        "        print(solutions_x[i], \"\\t\", solutions_y[i])\n",
        "\n",
        "    plt.axis([0, xmax, np.min(solutions_y), np.max(solutions_y)])\n",
        "    plt.plot(solutions_x, solutions_y, 'orange')\n",
        "    plt.show()\n",
        "\n",
        "\n",
        "def solve_system(equation_input_arr):\n",
        "    x, y = Symbol('x'), Symbol('y')\n",
        "    equations = (parse_expr(equation_input_arr[0]), parse_expr(equation_input_arr[1]))\n",
        "    solutions = nonlinsolve(equations, (x, y))\n",
        "    return solutions\n",
        "\n",
        "def graph_equations(equation_input_arr):\n",
        "    x, y = Symbol('x'), Symbol('y')\n",
        "    equations = (parse_expr(equation_input_arr[0]), parse_expr(equation_input_arr[1]))\n",
        "    intersection = Eq(equations[0], equations[1])\n",
        "    intersection_x = solve(intersection)\n",
        "    intersection_y = [equations[0].subs(x, intersection_x[0])]\n",
        "    xx = np.linspace(-50, 50, 100)\n",
        "    yy = lambdify(x, equations)(xx)\n",
        "\n",
        "    plt.plot([0, 0], [np.min(yy), np.max(yy)], 'k', alpha=0.5)\n",
        "    plt.plot([np.min(xx), np.max(xx)], [0, 0], 'k', alpha=0.5)\n",
        "    plt.plot(xx, np.transpose(yy))\n",
        "    plt.plot(intersection_x, intersection_y, 'ro')\n",
        "    plt.show()\n",
        "\n",
        "def graph_quadratic(a, b, c):\n",
        "    vx = -b/(2 * a)\n",
        "    vy = a * vx**2 + b * vx + c\n",
        "    dt = b**2 - 4 * a * c\n",
        "    roots = []\n",
        "    points = 30\n",
        "    xmin = int(vx - points / 2)\n",
        "    xmax = int(vx + points / 2)\n",
        "    solutions_x = range(xmin, xmax + 1)\n",
        "    solutions_y = np.empty((len(solutions_x)))\n",
        "\n",
        "    for i, x in enumerate(solutions_x):\n",
        "        solutions_y[i] = a * x**2 + b * x + c\n",
        "\n",
        "    ymin = np.min(solutions_y)\n",
        "    ymax = np.max(solutions_y)\n",
        "    ydiff = ymax-ymin\n",
        "    ymin -= ydiff * 0.05\n",
        "    ymax += ydiff * 0.05\n",
        "\n",
        "    if dt >= 0:\n",
        "        roots = [\n",
        "            (-b + math.sqrt(dt)) / (2 * a), \n",
        "            (-b - math.sqrt(dt)) / (2 * a)\n",
        "        ]\n",
        "\n",
        "    for root in roots:\n",
        "        plt.plot([root], [0], 'go')\n",
        "\n",
        "\n",
        "    print(\"Vertex = ({}, {})\".format(vx, vy))\n",
        "    print(\"Roots =\", roots)\n",
        "\n",
        "    plt.axis([xmin, xmax, ymin, ymax])\n",
        "    plt.plot([0, 0], [ymin, ymax], 'k', alpha=0.5)\n",
        "    plt.plot([xmin, xmax], [0, 0], 'k', alpha=0.5)\n",
        "    plt.plot(solutions_x, solutions_y, 'orange')\n",
        "    plt.plot([vx], [vy], 'bo')\n",
        "    plt.show()\n",
        "\n",
        "# This step does not have a test"
      ]
    },
    {
      "attachments": {},
      "cell_type": "markdown",
      "metadata": {
        "id": "D7ASvHg3b2Ph"
      },
      "source": [
        "# Certification Project 2"
      ]
    },
    {
      "attachments": {},
      "cell_type": "markdown",
      "metadata": {
        "id": "KBcTUf08cRy1"
      },
      "source": [
        "Build a graphing calculator that performs the functions mentioned in the previous step:\n",
        "<ul>\n",
        "<li>Display the graph and a table of values for any \"y=\" equation input</li>\n",
        "<li>Solve a system of two equations without graphing</li>\n",
        "<li>Graph two equations and plot the point of intersection</li>\n",
        "<li>Given a, b and c in a quadratic equation, plot the roots and vertex</li>\n",
        "</ul>\n",
        "Define each of the functions, and make each option call a function."
      ]
    },
    {
      "cell_type": "code",
      "execution_count": 29,
      "metadata": {},
      "outputs": [
        {
          "name": "stdout",
          "output_type": "stream",
          "text": [
            "Choose an option below:\n",
            "1. Display the graph and a table of values for any \"y=\" equation input\n",
            "2. Solve a system of two equations without graphing\n",
            "3. Graph two equations and plot the point of intersection\n",
            "4. Given a, b and c in a quadratic equation, plot the roots and vertex\n",
            "Graphing a quadratic equation.\n",
            "a = 3.0 and b = -2.0 and c= 0.0\n",
            "Vertex = (0.3333333333333333, -0.3333333333333333)\n",
            "Roots =  [0.6666666666666666, 0.0]\n"
          ]
        },
        {
          "data": {
            "image/png": "[encoded data removed]",
            "text/plain": [
              "<Figure size 640x480 with 1 Axes>"
            ]
          },
          "metadata": {},
          "output_type": "display_data"
        }
      ],
      "source": [
        "option = int(display_menu())\n",
        "\n",
        "if option == 1:\n",
        "    print(\"Displaying the graph and table for \\\"y=\\\".\")\n",
        "    equation_input = input(\"Enter your equation: y = \")\n",
        "    print(\"y =\", equation_input)\n",
        "    graph_and_table_y_equals(equation_input)\n",
        "elif option == 2:\n",
        "    print(\"Solving a system of two equations.\")\n",
        "    equations_input_arr = (input(\"Enter your first equation: 0 = \"), input(\"Enter your second equation: 0 = \"))\n",
        "    print(\"Equation 1: 0 =\", equations_input_arr[0])\n",
        "    print(\"Equation 2: 0 =\", equations_input_arr[1])\n",
        "    print(\"Solutions set:\", solve_system(equations_input_arr))\n",
        "elif option == 3:\n",
        "    print(\"Graphing two equations.\")\n",
        "    equations_input_arr = (input(\"Enter your first equation: y = \"), input(\"Enter your second equation: y = \"))\n",
        "    print(\"Equation 1: y =\", equations_input_arr[0])\n",
        "    print(\"Equation 2: y =\", equations_input_arr[1])\n",
        "    graph_equations(equations_input_arr)\n",
        "elif option == 4:\n",
        "    print(\"Graphing a quadratic equation.\")\n",
        "    a = float(input(\"Enter the value for a: \"))\n",
        "    if a == 0:\n",
        "        print(\"Value for a can't be zero.\")\n",
        "    else:\n",
        "        b = float(input(\"Enter the value for b: \"))\n",
        "        c = float(input(\"Enter the value for c: \"))\n",
        "        print(\"a =\", a, \"and b =\", b, \"and c=\", c)\n",
        "        graph_quadratic(a, b, c)"
      ]
    }
  ],
  "metadata": {
    "colab": {
      "collapsed_sections": [
        "szp5flp1fA8-",
        "iNcDJ45bGtYk",
        "ZWDxpIPUFfda",
        "i1mBd8gGFvBV",
        "MYQL57cD2ejS",
        "jIHKROStFMcR",
        "wLDO_IRrFw7z",
        "ExVB2joZF0rk",
        "3MqIpFTOF1m9",
        "NKq_qwCsF3Dj",
        "wvdngkOTF4Hi",
        "Q19Wm90DF5zf",
        "YSY2k7S3F6d7",
        "ykj42UNeF7K5",
        "QSKeBTgXHRAv",
        "0epVLhL0F88U",
        "8FCFQaq1Hizh",
        "BhKPZQJZF9w0",
        "I0mklEluF-jI",
        "eFehWNexGASC",
        "WbqugasGGCKJ",
        "hN_fvENUGBAm",
        "vteEy9QFGD5I",
        "VXxx7RCVSs4j",
        "jpo7oASHGEu7",
        "pE5o0-VMaIy3",
        "D7ASvHg3b2Ph"
      ],
      "provenance": []
    },
    "kernelspec": {
      "display_name": "Python 3",
      "name": "python3"
    },
    "language_info": {
      "codemirror_mode": {
        "name": "ipython",
        "version": 3
      },
      "file_extension": ".py",
      "mimetype": "text/x-python",
      "name": "python",
      "nbconvert_exporter": "python",
      "pygments_lexer": "ipython3",
      "version": "3.9.5"
    }
  },
  "nbformat": 4,
  "nbformat_minor": 0
}
